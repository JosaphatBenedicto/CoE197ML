{
 "cells": [
  {
   "cell_type": "code",
   "execution_count": 53,
   "metadata": {},
   "outputs": [],
   "source": [
    "import numpy as np\n",
    "import random\n",
    "import torch\n",
    "from matplotlib import pyplot as plt\n",
    "from tqdm import tqdm"
   ]
  },
  {
   "cell_type": "code",
   "execution_count": 43,
   "metadata": {},
   "outputs": [],
   "source": [
    "def plotter(data, label=['train']):\n",
    "    \"\"\" Plots data. \"\"\"\n",
    "    \n",
    "    for d,l in zip(data, label):\n",
    "        x, y = d\n",
    "        plt.scatter(x, y, label=l)\n",
    "    \n",
    "    plt.legend()\n",
    "    plt.xlabel('$x$')\n",
    "    plt.ylabel('$y$')\n",
    "    \n",
    "    plt.show()\n",
    "    \n",
    "def fcn(x, degree, coeffs):\n",
    "    \"\"\"\n",
    "    Given x, solves for y given x and coefficients\n",
    "    \n",
    "    Input/s:\n",
    "        x         : ndarray of input data\n",
    "        degree    : degree of the best fitting polynomial\n",
    "        coeffs    : polynomial coefficients\n",
    "        \n",
    "    Output/s:\n",
    "        y         : output after evaluating function\n",
    "    \"\"\"\n",
    "    \n",
    "    assert(len(coeffs) == 3)\n",
    "    \n",
    "    \n",
    "    y = coeffs[0] + coeffs[1]*x + coeffs[2]*x**2\n",
    "    return y"
   ]
  },
  {
   "cell_type": "code",
   "execution_count": 64,
   "metadata": {},
   "outputs": [
    {
     "data": {
      "image/png": "[encoded data removed]",
      "text/plain": [
       "<Figure size 432x288 with 1 Axes>"
      ]
     },
     "metadata": {
      "needs_background": "light"
     },
     "output_type": "display_data"
    },
    {
     "name": "stdout",
     "output_type": "stream",
     "text": [
      "[[ 1.40000000e+00 -1.41878564e+01]\n",
      " [ 1.64000000e+01 -1.30878600e+03]\n",
      " [-1.88000000e+01  2.61579396e+04]\n",
      " [ 1.02000000e+01 -9.17152039e+02]\n",
      " [ 9.80000000e+00 -8.13468814e+02]\n",
      " [-1.84000000e+01  2.42760902e+04]\n",
      " [-1.48000000e+01  1.15227169e+04]\n",
      " [ 8.20000000e+00 -5.29743506e+02]\n",
      " [ 4.80000000e+00 -9.21845203e+01]\n",
      " [ 8.00000000e-01 -5.00110955e+00]\n",
      " [ 8.60000000e+00 -6.73135641e+02]\n",
      " [ 1.82000000e+01 -7.12389819e+02]\n",
      " [-1.06000000e+01  3.78968284e+03]\n",
      " [ 6.60000000e+00 -3.25783510e+02]\n",
      " [ 1.10000000e+01 -1.03857991e+03]\n",
      " [ 9.40000000e+00 -7.50285855e+02]\n",
      " [-1.04000000e+01  3.48184242e+03]\n",
      " [-1.36000000e+01  8.61983626e+03]\n",
      " [-1.78000000e+01  2.16423053e+04]\n",
      " [-1.66000000e+01  1.69997958e+04]\n",
      " [-8.20000000e+00  1.63158728e+03]\n",
      " [ 1.06000000e+01 -9.47436378e+02]\n",
      " [ 1.78000000e+01 -8.93920101e+02]\n",
      " [ 1.12000000e+01 -1.12072809e+03]\n",
      " [ 2.00000000e+00 -5.37308247e+01]\n",
      " [-1.20000000e+00  2.64038554e+01]\n",
      " [-8.00000000e-01  5.15722058e+01]\n",
      " [ 9.00000000e+00 -6.80925805e+02]\n",
      " [-9.00000000e+00  2.22950885e+03]\n",
      " [-1.56000000e+01  1.37653363e+04]\n",
      " [ 4.20000000e+00 -1.15507567e+02]\n",
      " [-9.40000000e+00  2.55423348e+03]\n",
      " [ 1.74000000e+01 -1.00370875e+03]\n",
      " [ 1.92000000e+01 -1.50344246e+02]\n",
      " [ 6.40000000e+00 -2.70742166e+02]\n",
      " [-4.40000000e+00  2.74398187e+02]\n",
      " [-3.40000000e+00  7.35953912e+01]\n",
      " [ 1.18000000e+01 -1.18338494e+03]\n",
      " [ 1.34000000e+01 -1.36098029e+03]\n",
      " [ 7.00000000e+00 -4.01996087e+02]\n",
      " [ 6.80000000e+00 -3.16929328e+02]\n",
      " [ 6.00000000e+00 -2.15317790e+02]\n",
      " [ 1.44000000e+01 -1.47526967e+03]\n",
      " [-1.18000000e+01  5.33781124e+03]\n",
      " [-6.40000000e+00  7.02210568e+02]\n",
      " [-1.52000000e+01  1.26091863e+04]\n",
      " [ 1.52000000e+01 -1.41196379e+03]\n",
      " [ 4.60000000e+00 -1.66102981e+02]\n",
      " [-6.80000000e+00  8.69339499e+02]\n",
      " [ 1.98000000e+01  2.42595526e+02]\n",
      " [ 2.80000000e+00 -6.84298180e+01]\n",
      " [-1.16000000e+01  5.07414467e+03]\n",
      " [-4.60000000e+00  2.76044767e+02]\n",
      " [ 1.86000000e+01 -5.36043577e+02]\n",
      " [ 1.68000000e+01 -1.25358304e+03]\n",
      " [ 7.60000000e+00 -4.93749200e+02]\n",
      " [-1.80000000e+01  2.24819918e+04]\n",
      " [ 2.00000000e+01  4.15809163e+02]\n",
      " [-1.40000000e+01  9.47886161e+03]\n",
      " [-1.62000000e+01  1.55899022e+04]\n",
      " [ 1.84000000e+01 -6.19877941e+02]\n",
      " [ 8.40000000e+00 -5.61033946e+02]\n",
      " [-5.00000000e+00  3.81030250e+02]\n",
      " [ 1.80000000e+01 -8.68632537e+02]\n",
      " [-1.10000000e+01  4.21927605e+03]\n",
      " [ 5.00000000e+00 -1.82851509e+02]\n",
      " [ 1.70000000e+01 -1.19580201e+03]\n",
      " [ 1.94000000e+01 -3.27030253e+01]\n",
      " [-1.68000000e+01  1.76914353e+04]\n",
      " [ 3.20000000e+00 -6.01681077e+01]\n",
      " [-1.94000000e+01  2.90860627e+04]\n",
      " [ 3.80000000e+00 -8.18434065e+01]\n",
      " [ 2.20000000e+00 -3.27829630e+01]\n",
      " [ 1.80000000e+00  1.50510101e+01]\n",
      " [-6.60000000e+00  8.28151086e+02]\n",
      " [ 1.56000000e+01 -1.37982096e+03]\n",
      " [ 1.16000000e+01 -1.16321979e+03]\n",
      " [ 1.62000000e+01 -1.30791153e+03]\n",
      " [ 6.00000000e-01  2.51913897e+01]\n",
      " [-1.00000000e+00  5.27194433e+01]\n",
      " [ 1.58000000e+01 -1.41425461e+03]\n",
      " [ 1.96000000e+01  5.92327022e+01]\n",
      " [ 1.32000000e+01 -1.42298822e+03]\n",
      " [-1.64000000e+01  1.63450695e+04]\n",
      " [-1.82000000e+01  2.33104703e+04]\n",
      " [-8.60000000e+00  1.90462765e+03]\n",
      " [-2.80000000e+00  1.18425764e+01]\n",
      " [ 1.04000000e+01 -9.82510545e+02]\n",
      " [ 1.90000000e+01 -3.49919285e+02]\n",
      " [-1.34000000e+01  8.16393387e+03]\n",
      " [ 2.40000000e+00 -5.00675062e+01]\n",
      " [-3.80000000e+00  1.76985373e+02]\n",
      " [ 4.00000000e-01  2.80506451e+01]\n",
      " [ 1.26000000e+01 -1.26820848e+03]\n",
      " [-5.80000000e+00  5.13312149e+02]\n",
      " [ 7.80000000e+00 -4.72402572e+02]\n",
      " [ 2.60000000e+00 -1.23557712e+00]\n",
      " [-9.20000000e+00  2.37543463e+03]\n",
      " [ 0.00000000e+00  4.92100640e+01]\n",
      " [-1.60000000e+01  1.49718174e+04]\n",
      " [ 1.36000000e+01 -1.43665365e+03]]\n"
     ]
    }
   ],
   "source": [
    "valtrain = open(\"data_train.csv\", \"r\").read().splitlines()\n",
    "del valtrain[0]\n",
    "random.shuffle(valtrain)\n",
    "\n",
    "val_half_len = int(len(valtrain)/2)\n",
    "\n",
    "val_train, val_validate = valtrain[:val_half_len], valtrain[val_half_len:]\n",
    "\n",
    "xtrain, ytrain=[],[]\n",
    "for x in val_train:\n",
    "    vals_train = x.split(\",\")\n",
    "    xtrain.append(float(vals_train[0]))\n",
    "    ytrain.append(float(vals_train[1]))\n",
    "\n",
    "xvalidate, yvalidate=[],[]\n",
    "for x in val_validate:\n",
    "    vals_validate = x.split(\",\")\n",
    "    xvalidate.append(float(vals_validate[0]))\n",
    "    yvalidate.append(float(vals_validate[1]))\n",
    "    \n",
    "plotter([[xtrain, ytrain],[xvalidate, yvalidate]], label=['Train', 'Validate'])\n",
    "\n",
    "x, y = np.array(xtrain, dtype=\"float64\"), np.array(ytrain, dtype=\"float64\")\n",
    "n_obs = x.shape[0]\n",
    "if n_obs != y.shape[0]:\n",
    "    raise ValueError(\"'x' and 'y' lengths do not match\")\n",
    "xy = np.c_[x.reshape(n_obs, -1), y.reshape(n_obs, 1)]\n",
    "\n",
    "print(xy)"
   ]
  },
  {
   "cell_type": "code",
   "execution_count": 52,
   "metadata": {},
   "outputs": [
    {
     "name": "stdout",
     "output_type": "stream",
     "text": [
      "['x,y', '-100,12009902', '-95,9868744.5', '-90,8027012', '-85,6455454.5', '-80,5126322', '-75,4013364.5', '-70,3091832', '-65,2338474.5', '-60,1731542', '-55,1250784.5', '-50,877452', '-45,594294.5', '-40,385562', '-35,237004.5', '-30,135872', '-25,70914.5', '-20,32382', '-15,12024.5', '-10,3092', '-5,334.5', '0,2', '5,-155.5', '10,-888', '15,-1445.5', '20,422', '25,8464.5', '30,27932', '35,65574.5', '40,129642', '45,229884.5', '50,377552', '55,585394.5', '60,867662', '65,1240104.5', '70,1719972', '75,2326014.5', '80,3078482', '85,3999124.5', '90,5111192', '95,6439434.5', '100,8010102']\n"
     ]
    },
    {
     "data": {
      "image/png": "[encoded data removed]",
      "text/plain": [
       "<Figure size 432x288 with 1 Axes>"
      ]
     },
     "metadata": {
      "needs_background": "light"
     },
     "output_type": "display_data"
    }
   ],
   "source": [
    "valtest = open(\"data_test.csv\", \"r\").read().splitlines()\n",
    "\n",
    "xtest=[]\n",
    "ytest=[]\n",
    "for x in valtest[1:]:\n",
    "    vals_test = x.split(\",\")\n",
    "    xtest.append(float(vals_test[0]))\n",
    "    ytest.append(float(vals_test[1]))\n",
    "    \n",
    "plotter([[xtest,ytest],[xtest,ytest]], label=['Test','Test'])"
   ]
  },
  {
   "cell_type": "code",
   "execution_count": 49,
   "metadata": {},
   "outputs": [],
   "source": [
    "def calc_loss(y_pred, y_gt):\n",
    "    \"\"\"\n",
    "    Calculate the MSE loss\n",
    "    \n",
    "    Input/s:\n",
    "        y_pred : predicted y of model\n",
    "        y_gt   : ground truth y\n",
    "    \"\"\"\n",
    "    mse = ((y_pred-y_gt)**2).mean()\n",
    "    return mse\n",
    "\n",
    "def calc_gradient(params, x, y_gt):\n",
    "    \"\"\"\n",
    "    Calculates the gradient.\n",
    "    \n",
    "    Input/s:\n",
    "        params : coefficients initialized randomly\n",
    "        x      : ndarray of input data\n",
    "        y_gt   : ground truth y\n",
    "    \n",
    "    \"\"\"\n",
    "    y_pred = fcn(x, params, add_noise=False)\n",
    "    y_diff = y_pred - y_gt\n",
    "    \n",
    "    dL_c0 = (2*y_diff).mean()\n",
    "    dL_c1 = (2*x*y_diff).mean()\n",
    "    dL_c2 = (2*x**2*y_diff).mean()\n",
    "    \n",
    "    dL_cs = np.array([dL_c0, dL_c1, dL_c2])\n",
    "    return dL_cs\n",
    "\n",
    "def update_params(params, grads, lr=0.001):\n",
    "    \"\"\"\n",
    "    Updates our parameters.\n",
    "    \n",
    "    Input/s:\n",
    "        params : coefficients initialized randomly\n",
    "        grads  : ndarray of gradients\n",
    "        lr     : learning rate\n",
    "    \"\"\"\n",
    "    new_params = params - lr*grads\n",
    "    return new_params"
   ]
  },
  {
   "cell_type": "code",
   "execution_count": 57,
   "metadata": {},
   "outputs": [],
   "source": [
    "lr = 0.0001\n",
    "batch_size = 4\n",
    "max_epoch = 5000"
   ]
  },
  {
   "cell_type": "code",
   "execution_count": null,
   "metadata": {},
   "outputs": [],
   "source": [
    "def SGD(lr, batch_size, x, y):\n",
    "    "
   ]
  },
  {
   "cell_type": "code",
   "execution_count": null,
   "metadata": {},
   "outputs": [],
   "source": []
  }
 ],
 "metadata": {
  "kernelspec": {
   "display_name": "base",
   "language": "python",
   "name": "python3"
  },
  "language_info": {
   "codemirror_mode": {
    "name": "ipython",
    "version": 3
   },
   "file_extension": ".py",
   "mimetype": "text/x-python",
   "name": "python",
   "nbconvert_exporter": "python",
   "pygments_lexer": "ipython3",
   "version": "3.9.12"
  },
  "orig_nbformat": 4,
  "vscode": {
   "interpreter": {
    "hash": "7a44b4e882cc485d03fa0ba786e7a930348972b1190510ffc3c07ce0286540bb"
   }
  }
 },
 "nbformat": 4,
 "nbformat_minor": 2
}
