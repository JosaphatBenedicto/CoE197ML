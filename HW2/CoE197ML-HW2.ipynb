{
 "cells": [
  {
   "cell_type": "code",
   "execution_count": 35,
   "metadata": {},
   "outputs": [
    {
     "ename": "IndexError",
     "evalue": "tuple index out of range",
     "output_type": "error",
     "traceback": [
      "\u001b[1;31m---------------------------------------------------------------------------\u001b[0m",
      "\u001b[1;31mIndexError\u001b[0m                                Traceback (most recent call last)",
      "\u001b[1;32mc:\\Users\\Jop\\anaconda3\\CoE197ML\\CoE197ML\\HW2\\CoE197ML-HW2.ipynb Cell 1\u001b[0m in \u001b[0;36m<cell line: 93>\u001b[1;34m()\u001b[0m\n\u001b[0;32m     <a href='vscode-notebook-cell:/c%3A/Users/Jop/anaconda3/CoE197ML/CoE197ML/HW2/CoE197ML-HW2.ipynb#W0sZmlsZQ%3D%3D?line=88'>89</a>\u001b[0m deg \u001b[39m=\u001b[39m []\n\u001b[0;32m     <a href='vscode-notebook-cell:/c%3A/Users/Jop/anaconda3/CoE197ML/CoE197ML/HW2/CoE197ML-HW2.ipynb#W0sZmlsZQ%3D%3D?line=89'>90</a>\u001b[0m coeffs \u001b[39m=\u001b[39m [] \n\u001b[1;32m---> <a href='vscode-notebook-cell:/c%3A/Users/Jop/anaconda3/CoE197ML/CoE197ML/HW2/CoE197ML-HW2.ipynb#W0sZmlsZQ%3D%3D?line=92'>93</a>\u001b[0m out \u001b[39m=\u001b[39m model\u001b[39m.\u001b[39;49mforward(xtrain)\n\u001b[0;32m     <a href='vscode-notebook-cell:/c%3A/Users/Jop/anaconda3/CoE197ML/CoE197ML/HW2/CoE197ML-HW2.ipynb#W0sZmlsZQ%3D%3D?line=93'>94</a>\u001b[0m loss \u001b[39m=\u001b[39m out\u001b[39m.\u001b[39mmul(ytrain)\u001b[39m.\u001b[39mmean()\n\u001b[0;32m     <a href='vscode-notebook-cell:/c%3A/Users/Jop/anaconda3/CoE197ML/CoE197ML/HW2/CoE197ML-HW2.ipynb#W0sZmlsZQ%3D%3D?line=94'>95</a>\u001b[0m optim\u001b[39m.\u001b[39mzero_grad()\n",
      "\u001b[1;32mc:\\Users\\Jop\\anaconda3\\CoE197ML\\CoE197ML\\HW2\\CoE197ML-HW2.ipynb Cell 1\u001b[0m in \u001b[0;36mDatavalues.forward\u001b[1;34m(self, x)\u001b[0m\n\u001b[0;32m     <a href='vscode-notebook-cell:/c%3A/Users/Jop/anaconda3/CoE197ML/CoE197ML/HW2/CoE197ML-HW2.ipynb#W0sZmlsZQ%3D%3D?line=76'>77</a>\u001b[0m \u001b[39mdef\u001b[39;00m \u001b[39mforward\u001b[39m(\u001b[39mself\u001b[39m, x):\n\u001b[1;32m---> <a href='vscode-notebook-cell:/c%3A/Users/Jop/anaconda3/CoE197ML/CoE197ML/HW2/CoE197ML-HW2.ipynb#W0sZmlsZQ%3D%3D?line=77'>78</a>\u001b[0m     \u001b[39mreturn\u001b[39;00m x\u001b[39m.\u001b[39;49mdot(\u001b[39mself\u001b[39;49m\u001b[39m.\u001b[39;49mx_val)\u001b[39m.\u001b[39mrelu()\u001b[39m.\u001b[39mdot(\u001b[39mself\u001b[39m\u001b[39m.\u001b[39my_val)\u001b[39m.\u001b[39mlogsoftmax()\n",
      "File \u001b[1;32mc:\\users\\jop\\anaconda3\\tinygrad\\tinygrad\\tensor.py:188\u001b[0m, in \u001b[0;36mTensor.matmul\u001b[1;34m(self, w)\u001b[0m\n\u001b[0;32m    185\u001b[0m \u001b[39mdef\u001b[39;00m \u001b[39mmatmul\u001b[39m(\u001b[39mself\u001b[39m:Tensor, w:Tensor):\n\u001b[0;32m    186\u001b[0m   \u001b[39m# NOTE: we use a 1x1 conv2d to do the matmul. mxk @ kxn = (1,k,m,1).conv2d(n,k,1,1)\u001b[39;00m\n\u001b[0;32m    187\u001b[0m   bs, groups \u001b[39m=\u001b[39m prod(\u001b[39mself\u001b[39m\u001b[39m.\u001b[39mshape[\u001b[39m0\u001b[39m:\u001b[39m-\u001b[39m\u001b[39m2\u001b[39m]), prod(w\u001b[39m.\u001b[39mshape[\u001b[39m0\u001b[39m:\u001b[39m-\u001b[39m\u001b[39m2\u001b[39m])\n\u001b[1;32m--> 188\u001b[0m   cin, cout \u001b[39m=\u001b[39m w\u001b[39m.\u001b[39;49mshape[\u001b[39m-\u001b[39;49m\u001b[39m2\u001b[39;49m], w\u001b[39m.\u001b[39mshape[\u001b[39m-\u001b[39m\u001b[39m1\u001b[39m]\n\u001b[0;32m    189\u001b[0m   out_shape_t \u001b[39m=\u001b[39m \u001b[39mtuple\u001b[39m(\u001b[39mlist\u001b[39m(\u001b[39mself\u001b[39m\u001b[39m.\u001b[39mshape[\u001b[39m0\u001b[39m:\u001b[39m-\u001b[39m\u001b[39m2\u001b[39m])\u001b[39m+\u001b[39m[cout,\u001b[39m-\u001b[39m\u001b[39m1\u001b[39m])\n\u001b[0;32m    190\u001b[0m   \u001b[39mif\u001b[39;00m \u001b[39mlen\u001b[39m(\u001b[39mself\u001b[39m\u001b[39m.\u001b[39mshape) \u001b[39m>\u001b[39m \u001b[39m1\u001b[39m:\n",
      "\u001b[1;31mIndexError\u001b[0m: tuple index out of range"
     ]
    }
   ],
   "source": [
    "import numpy as np\n",
    "import pandas as pd\n",
    "import random\n",
    "import torch\n",
    "from matplotlib import pyplot as plt\n",
    "from tqdm import tqdm\n",
    "import tinygrad.nn.optim as optim\n",
    "from tinygrad.tensor import Tensor\n",
    "\n",
    "#Loss function\n",
    "def calc_loss(y_pred, y_gt):\n",
    "    \"\"\"\n",
    "    Calculate the MSE loss\n",
    "    \n",
    "    Input/s:\n",
    "        y_pred : predicted y of model\n",
    "        y_gt   : ground truth y\n",
    "    \"\"\"\n",
    "    mse = ((y_pred-y_gt)**2).mean()\n",
    "    return mse\n",
    "\n",
    "#Gradient\n",
    "\n",
    "\n",
    "#Function Placeholder\n",
    "def fcn(xval, yval, coeffs):\n",
    "    return None\n",
    "\n",
    "\n",
    "#Prepare Dataset\n",
    "valtrain = open(\"data_train.csv\", \"r\").read().splitlines()\n",
    "del valtrain[0]\n",
    "random.shuffle(valtrain)\n",
    "\n",
    "val_train, val_validate = valtrain[:50], valtrain[50:]\n",
    "\n",
    "xtrain, ytrain=[],[]\n",
    "for x in val_train:\n",
    "    vals_train = x.split(\",\")\n",
    "    xtrain.append(float(vals_train[0]))\n",
    "    ytrain.append(float(vals_train[1]))\n",
    "\n",
    "xvalidate, yvalidate=[],[]\n",
    "for x in val_validate:\n",
    "    vals_validate = x.split(\",\")\n",
    "    xvalidate.append(float(vals_validate[0]))\n",
    "    yvalidate.append(float(vals_validate[1]))\n",
    "\n",
    "x, y = np.array(xtrain, dtype=\"float64\"), np.array(ytrain, dtype=\"float64\")\n",
    "n_obs = x.shape[0]\n",
    "if n_obs != y.shape[0]:\n",
    "    raise ValueError(\"'x' and 'y' lengths do not match\")\n",
    "xy = np.c_[x.reshape(n_obs, -1), y.reshape(n_obs, 1)]\n",
    "\n",
    "valtest = open(\"data_test.csv\", \"r\").read().splitlines()\n",
    "\n",
    "xtest, ytest=[],[]\n",
    "for x in valtest[1:]:\n",
    "    vals_test = x.split(\",\")\n",
    "    xtest.append(float(vals_test[0]))\n",
    "    ytest.append(float(vals_test[1]))\n",
    "\n",
    "xtrain = Tensor(xtrain, requires_grad=False)\n",
    "xvalidate = Tensor(xvalidate, requires_grad=False)\n",
    "xtest = Tensor(xtest, requires_grad=False)\n",
    "ytrain = Tensor(ytrain, requires_grad=False)\n",
    "yvalidate = Tensor(yvalidate, requires_grad=False)    \n",
    "ytest = Tensor(ytest, requires_grad=False)\n",
    "\n",
    "\n",
    "#Prepare Model\n",
    "class Datavalues:\n",
    "    def __init__(self, x_val, y_val):\n",
    "        self.x_val = x_val\n",
    "        self.y_val = y_val\n",
    "        \n",
    "    def forward(self, x):\n",
    "        return x.dot(self.x_val).relu().dot(self.y_val).logsoftmax()\n",
    "\n",
    "\n",
    "model = Datavalues(xtrain,ytrain)\n",
    "optim = optim.SGD([model.x_val, model.y_val], lr=0.001)\n",
    "\n",
    "\n",
    "#Parameters\n",
    "batch = 4\n",
    "lr = 0.0001\n",
    "max_epochs = 5000\n",
    "deg = []\n",
    "coeffs = [] \n",
    "\n",
    "\n",
    "out = model.forward(xtrain)\n",
    "loss = out.mul(ytrain).mean()\n",
    "optim.zero_grad()\n",
    "loss.backward()\n",
    "optim.step()"
   ]
  },
  {
   "cell_type": "code",
   "execution_count": 113,
   "metadata": {},
   "outputs": [
    {
     "name": "stdout",
     "output_type": "stream",
     "text": [
      "tensor([[-0.5736, -0.4893, -0.1558, -0.0503,  0.2296,  0.3424,  0.4080,  0.2490,\n",
      "         -0.3971,  0.9936],\n",
      "        [-0.1723, -0.1285, -0.8259, -1.3654,  0.7371,  0.6374, -1.0702, -1.7178,\n",
      "          0.4265,  0.7712],\n",
      "        [ 0.8479,  1.9651, -1.6316,  0.4919, -0.4901, -0.0605, -0.9970, -0.0723,\n",
      "         -0.0757,  0.2983],\n",
      "        [ 1.2320, -0.6018,  0.3110,  0.5575,  0.2849, -0.0421, -0.0926, -1.4334,\n",
      "         -0.9333,  1.7911]])\n"
     ]
    }
   ],
   "source": [
    "input_X = torch.randn(4, 10)\n",
    "print(input_X)"
   ]
  }
 ],
 "metadata": {
  "kernelspec": {
   "display_name": "base",
   "language": "python",
   "name": "python3"
  },
  "language_info": {
   "codemirror_mode": {
    "name": "ipython",
    "version": 3
   },
   "file_extension": ".py",
   "mimetype": "text/x-python",
   "name": "python",
   "nbconvert_exporter": "python",
   "pygments_lexer": "ipython3",
   "version": "3.9.12"
  },
  "orig_nbformat": 4,
  "vscode": {
   "interpreter": {
    "hash": "7a44b4e882cc485d03fa0ba786e7a930348972b1190510ffc3c07ce0286540bb"
   }
  }
 },
 "nbformat": 4,
 "nbformat_minor": 2
}
